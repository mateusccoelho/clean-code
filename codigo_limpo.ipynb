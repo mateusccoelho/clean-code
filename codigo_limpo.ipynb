{
 "cells": [
  {
   "cell_type": "code",
   "execution_count": 51,
   "metadata": {},
   "outputs": [],
   "source": [
    "from typing import List, Tuple, Dict, Any, Union\n",
    "\n",
    "import pandas as pd\n",
    "import streamlit as st"
   ]
  },
  {
   "cell_type": "markdown",
   "metadata": {},
   "source": [
    "# Documentação\n",
    "\n",
    "## Anotação de tipos\n",
    "\n",
    "- Jeito super fácil de documentar funções\n",
    "- Evita adivinhar os tipos dos argumentos e do retorno\n",
    "- Evita ler o código para inferir os tipos\n",
    "- Type hints cheat sheet (5 min, ler até functions).\n"
   ]
  },
  {
   "cell_type": "code",
   "execution_count": null,
   "metadata": {},
   "outputs": [],
   "source": [
    "def calcula_cotacoes_periodo(\n",
    "    index: pd.DataFrame,\n",
    "    id_titulo: int, \n",
    "    data_inicio: pd.Timestamp, \n",
    "    data_fim: pd.Timestamp, \n",
    "    taxa: float, \n",
    "    valor: float,\n",
    ") -> pd.Series:\n",
    "    \n",
    "    mask_periodo = (index.index >= data_inicio) & (index.index < data_fim)\n",
    "    fator_cdi = index.loc[mask_periodo, \"Fator CDI\"] * taxa + 1\n",
    "    cotacoes = fator_cdi.cumprod() * valor\n",
    "    return (\n",
    "        cotacoes.reset_index()\n",
    "        .rename(columns={\"Fator CDI\": \"Cotação\"})\n",
    "        .assign(ID=id_titulo)\n",
    "    )"
   ]
  },
  {
   "cell_type": "markdown",
   "metadata": {},
   "source": [
    "## Docstrings\n",
    "\n",
    "- Útil para documentar funções complexas ou abstratas.\n",
    "- Use o Chat GPT para autocompletar os argumentos e retorno."
   ]
  },
  {
   "cell_type": "code",
   "execution_count": 4,
   "metadata": {},
   "outputs": [],
   "source": [
    "def calcular_sharpe_ratio(\n",
    "    series_precos: pd.Series, \n",
    "    taxa_livre_risco: float\n",
    ") -> float:\n",
    "    \"\"\"\n",
    "    Calcula o Índice de Sharpe para uma série de preços de ações.\n",
    "\n",
    "    Args:\n",
    "        series_precos (pd.Series): Uma série contendo os preços \n",
    "            diários de uma ação.\n",
    "        taxa_livre_risco (float): A taxa de retorno livre de risco, \n",
    "            geralmente o retorno de um título do governo.\n",
    "\n",
    "    Returns:\n",
    "        float: O Índice de Sharpe calculado.\n",
    "    \"\"\"\n",
    "    \n",
    "    retornos = series_precos.pct_change().dropna()\n",
    "    retorno_medio = retornos.mean() * 252\n",
    "    desvio_padrao = retornos.std() * (252 ** 0.5)\n",
    "\n",
    "    sharpe_ratio = (retorno_medio - taxa_livre_risco) / desvio_padrao\n",
    "    return sharpe_ratio"
   ]
  },
  {
   "cell_type": "markdown",
   "metadata": {},
   "source": [
    "## Docstrings nem sempre são necessárias\n",
    "\n",
    "Funções “anotadas” e com nomes auto-explicativos não precisam de docstring."
   ]
  },
  {
   "cell_type": "code",
   "execution_count": 5,
   "metadata": {},
   "outputs": [],
   "source": [
    "def calcular_sharpe_ratio(\n",
    "    series_precos: pd.Series, \n",
    "    taxa_livre_risco: float\n",
    ") -> float:\n",
    "    \n",
    "    retornos = series_precos.pct_change().dropna()\n",
    "    retorno_medio = retornos.mean() * 252\n",
    "    desvio_padrao = retornos.std() * (252 ** 0.5)\n",
    "\n",
    "    sharpe_ratio = (retorno_medio - taxa_livre_risco) / desvio_padrao\n",
    "    return sharpe_ratio"
   ]
  },
  {
   "cell_type": "markdown",
   "metadata": {},
   "source": [
    "# Melhorando legibilidade e entendimento\n",
    "\n",
    "## Evite comentários óbvios ou que \"narram\" o código"
   ]
  },
  {
   "cell_type": "code",
   "execution_count": null,
   "metadata": {},
   "outputs": [],
   "source": [
    "def calcular_sharpe_ratio(series_precos: pd.Series, taxa_livre_risco: float) -> float:\n",
    "    \"\"\"\n",
    "    Calcula o Índice de Sharpe para uma série de preços de ações.\n",
    "\n",
    "    Args:\n",
    "        series_precos (pd.Series): Uma série contendo os preços diários de uma ação.\n",
    "        taxa_livre_risco (float): A taxa de retorno livre de risco, geralmente o retorno de um título do governo.\n",
    "\n",
    "    Returns:\n",
    "        float: O Índice de Sharpe calculado.\n",
    "    \"\"\"\n",
    "    \n",
    "    retornos = series_precos.pct_change().dropna()  # Calcula os retornos diários, ignorando o primeiro NaN\n",
    "    retorno_medio = retornos.mean() * 252  # Média dos retornos diários multiplicada pelo número de dias de negociação em um ano\n",
    "    desvio_padrao = retornos.std() * (252 ** 0.5)  # Desvio padrão dos retornos diários anualizado\n",
    "\n",
    "    sharpe_ratio = (retorno_medio - taxa_livre_risco) / desvio_padrao\n",
    "    return sharpe_ratio"
   ]
  },
  {
   "cell_type": "markdown",
   "metadata": {},
   "source": [
    "## Use comentários para explicar manipulações ou contextos complexos"
   ]
  },
  {
   "cell_type": "code",
   "execution_count": null,
   "metadata": {},
   "outputs": [],
   "source": []
  },
  {
   "cell_type": "markdown",
   "metadata": {},
   "source": [
    "## Números mágicos\n",
    "\n",
    "- Crie constantes com nomes que indiquem o significado de números mágicos.\n",
    "- Outra opção adicionar um comentário explicando o número. "
   ]
  },
  {
   "cell_type": "code",
   "execution_count": null,
   "metadata": {},
   "outputs": [],
   "source": []
  },
  {
   "cell_type": "markdown",
   "metadata": {},
   "source": [
    "## Formatação\n",
    "\n",
    "- PEP 8: documento que direciona como código Python deve ser formatado.\n",
    "- flake8: pacote que valida a PEP 8 e ainda traz indicações de falhas de segurança, expressões complexas e pedaços de código não idiomático.\n",
    "- black: pacote para padronizar a formatação do seu código **automaticamente**."
   ]
  },
  {
   "cell_type": "markdown",
   "metadata": {},
   "source": [
    "# Dicas sobre estrutura do código"
   ]
  },
  {
   "cell_type": "markdown",
   "metadata": {},
   "source": [
    "## Procure não repetir código"
   ]
  },
  {
   "cell_type": "code",
   "execution_count": 52,
   "metadata": {},
   "outputs": [],
   "source": [
    "df = pd.DataFrame({\n",
    "    \"ID\": [1, 1, 1, 1, 1],\n",
    "    \"Data\": [\"2021-01-01\", \"2021-01-02\", \"2021-01-03\", \"2021-01-04\", \"2021-01-05\"],\n",
    "    \"Cotação\": [100, 101, 102, 103, 104],\n",
    "    \"Fator CDI\": [1.0001, 1.0002, 1.0003, 1.0004, 1.0005],\n",
    "    \"Imposto\": [0.1, 0.1, 0.1, 0.1, 0.1],\n",
    "})"
   ]
  },
  {
   "cell_type": "code",
   "execution_count": 53,
   "metadata": {},
   "outputs": [],
   "source": [
    "df[\"ID\"] = pd.to_numeric(df[\"ID\"])\n",
    "df[\"Cotação\"] = pd.to_numeric(df[\"Cotação\"])\n",
    "df[\"Fator CDI\"] = pd.to_numeric(df[\"Fator CDI\"])\n",
    "df[\"Imposto\"] = pd.to_numeric(df[\"Imposto\"])\n",
    "df[\"Data\"] = pd.to_datetime(df[\"Data\"])"
   ]
  },
  {
   "cell_type": "code",
   "execution_count": null,
   "metadata": {},
   "outputs": [],
   "source": [
    "for col in [\"ID\", \"Cotação\", \"Fator CDI\", \"Imposto\"]:\n",
    "    df[col] = pd.to_numeric(df[col])\n",
    "\n",
    "df[\"Data\"] = pd.to_datetime(df[\"Data\"])"
   ]
  },
  {
   "cell_type": "markdown",
   "metadata": {},
   "source": [
    "## Faça validações no começo e termine o fluxo rápido"
   ]
  },
  {
   "cell_type": "code",
   "execution_count": null,
   "metadata": {},
   "outputs": [],
   "source": [
    "def pagina_busca():\n",
    "    st.title(\"Busca de Títulos Públicos\")\n",
    "\n",
    "    id_titulo = st.number_input(\"ID do Título\", min_value=1, max_value=9999, value=1)\n",
    "    data_inicio = st.date_input(\"Data de Início\", pd.Timestamp(\"2021-01-01\"))\n",
    "\n",
    "    if id_titulo > 0:\n",
    "        if data_inicio >= pd.Timestamp(\"2021-01-01\"):\n",
    "            st.write(df)\n",
    "        else:\n",
    "            st.error(\"A data de início deve ser a partir de 01/01/2021.\")\n",
    "    else:\n",
    "        st.error(\"O ID do Título deve ser um número positivo.\")"
   ]
  },
  {
   "cell_type": "code",
   "execution_count": null,
   "metadata": {},
   "outputs": [],
   "source": [
    "def pagina_busca():\n",
    "    st.title(\"Busca de Títulos Públicos\")\n",
    "\n",
    "    id_titulo = st.number_input(\"ID do Título\", min_value=1, max_value=9999, value=1)\n",
    "    data_inicio = st.date_input(\"Data de Início\", pd.Timestamp(\"2021-01-01\"))\n",
    "\n",
    "    if id_titulo < 0:\n",
    "        st.error(\"O ID do título deve ser um número positivo.\")\n",
    "        return\n",
    "    elif data_inicio < pd.Timestamp(\"2021-01-01\"):\n",
    "        st.error(\"A data de início deve ser a partir de 01/01/2021.\")\n",
    "        return\n",
    "    else:\n",
    "        st.write(df)"
   ]
  },
  {
   "cell_type": "code",
   "execution_count": null,
   "metadata": {},
   "outputs": [],
   "source": [
    "def pagina_busca():\n",
    "    st.title(\"Busca de Títulos Públicos\")\n",
    "\n",
    "    id_titulo = st.number_input(\"ID do Título\", min_value=1, max_value=9999, value=1)\n",
    "    data_inicio = st.date_input(\"Data de Início\", pd.Timestamp(\"2021-01-01\"))\n",
    "\n",
    "    if id_titulo < 0:\n",
    "        st.error(\"O ID do título deve ser um número positivo.\")\n",
    "        return\n",
    "    \n",
    "    if data_inicio < pd.Timestamp(\"2021-01-01\"):\n",
    "        st.error(\"A data de início deve ser a partir de 01/01/2021.\")\n",
    "        return\n",
    "    \n",
    "    # A página continua aqui sem precisar identar o código\n",
    "    st.write(df)"
   ]
  },
  {
   "cell_type": "markdown",
   "metadata": {},
   "source": [
    "# Padrões e boas práticas no Python\n",
    "\n",
    "- Fazer as coisas de forma **\"pythonica\"**."
   ]
  },
  {
   "cell_type": "markdown",
   "metadata": {},
   "source": [
    "## Use context manager sempre que possível\n",
    "\n",
    "Evite:"
   ]
  },
  {
   "cell_type": "code",
   "execution_count": 47,
   "metadata": {},
   "outputs": [
    {
     "name": "stdout",
     "output_type": "stream",
     "text": [
      "b'\\x89PNG\\r\\n\\x1a\\n\\x00\\x00'\n"
     ]
    }
   ],
   "source": [
    "file_pointer = open(\"hash_table.png\", \"rb\")\n",
    "print(file_pointer.read()[:10])\n",
    "file_pointer.close()"
   ]
  },
  {
   "cell_type": "markdown",
   "metadata": {},
   "source": [
    "Use: "
   ]
  },
  {
   "cell_type": "code",
   "execution_count": 49,
   "metadata": {},
   "outputs": [
    {
     "name": "stdout",
     "output_type": "stream",
     "text": [
      "b'\\x89PNG\\r\\n\\x1a\\n\\x00\\x00'\n"
     ]
    }
   ],
   "source": [
    "with open(\"hash_table.png\", \"rb\") as file_pointer:\n",
    "    print(file_pointer.read()[:10])"
   ]
  },
  {
   "cell_type": "markdown",
   "metadata": {},
   "source": [
    "## Use dicionários sempre que puder\n",
    "\n",
    "- Por baixo dos panos é uma estrutura de dados chamada Hash Table.\n",
    "- Permite obter informações de forma bem rápida usando uma função Hash.\n",
    "\n",
    "<img src=\"hash_table.png\" width=\"700\">"
   ]
  },
  {
   "cell_type": "code",
   "execution_count": 2,
   "metadata": {},
   "outputs": [],
   "source": [
    "target = \"James\"\n",
    "phone_numbers_list = [(\"James\", \"555-5555\"), (\"Ellen\", \"555-1234\"), (\"Bill\", \"555-4444\")]\n",
    "phone_numbers_dict = {\"James\": \"555-5555\", \"Ellen\": \"555-1234\", \"Bill\": \"555-4444\"}"
   ]
  },
  {
   "cell_type": "code",
   "execution_count": 4,
   "metadata": {},
   "outputs": [
    {
     "name": "stdout",
     "output_type": "stream",
     "text": [
      "47.1 ns ± 0.636 ns per loop (mean ± std. dev. of 7 runs, 10,000,000 loops each)\n"
     ]
    }
   ],
   "source": [
    "%%timeit\n",
    "for name, number in phone_numbers_list:\n",
    "    if name == target:\n",
    "        break"
   ]
  },
  {
   "cell_type": "code",
   "execution_count": 5,
   "metadata": {},
   "outputs": [
    {
     "name": "stdout",
     "output_type": "stream",
     "text": [
      "17.9 ns ± 0.0583 ns per loop (mean ± std. dev. of 7 runs, 100,000,000 loops each)\n"
     ]
    }
   ],
   "source": [
    "%%timeit\n",
    "phone_numbers_dict[\"James\"]"
   ]
  },
  {
   "cell_type": "markdown",
   "metadata": {},
   "source": [
    "## Use conjuntos sempre que puder\n",
    "\n",
    "- Ordem não importa\n",
    "- Semelhante à Hash Table, mas sem o valor.\n",
    "- Faz testes de pertencimento muito rápido."
   ]
  },
  {
   "cell_type": "code",
   "execution_count": 6,
   "metadata": {},
   "outputs": [],
   "source": [
    "items = list(range(1000))\n",
    "conjunto = set(items)"
   ]
  },
  {
   "cell_type": "code",
   "execution_count": 7,
   "metadata": {},
   "outputs": [
    {
     "name": "stdout",
     "output_type": "stream",
     "text": [
      "442 ns ± 6.15 ns per loop (mean ± std. dev. of 7 runs, 1,000,000 loops each)\n"
     ]
    }
   ],
   "source": [
    "%%timeit\n",
    "100 in items"
   ]
  },
  {
   "cell_type": "code",
   "execution_count": 8,
   "metadata": {},
   "outputs": [
    {
     "name": "stdout",
     "output_type": "stream",
     "text": [
      "18.4 ns ± 0.135 ns per loop (mean ± std. dev. of 7 runs, 100,000,000 loops each)\n"
     ]
    }
   ],
   "source": [
    "%%timeit\n",
    "100 in conjunto"
   ]
  },
  {
   "cell_type": "markdown",
   "metadata": {},
   "source": [
    "## F-string\n",
    "\n",
    "- Mais curto e legível do que outras formas."
   ]
  },
  {
   "cell_type": "code",
   "execution_count": 11,
   "metadata": {},
   "outputs": [],
   "source": [
    "nome = \"Alice\"\n",
    "idade = 30"
   ]
  },
  {
   "cell_type": "code",
   "execution_count": 12,
   "metadata": {},
   "outputs": [],
   "source": [
    "saudacao = \"Olá, \" + nome + \"! Você tem \" + str(idade) + \" anos.\"\n",
    "saudacao = f\"Olá, {nome}! Você tem {idade} anos.\""
   ]
  },
  {
   "cell_type": "markdown",
   "metadata": {},
   "source": [
    "## Desempacotar tuplas"
   ]
  },
  {
   "cell_type": "code",
   "execution_count": 13,
   "metadata": {},
   "outputs": [],
   "source": [
    "valores = (\"Mateus\", \"DRRCA\", \"Cientista de Dados\")"
   ]
  },
  {
   "cell_type": "code",
   "execution_count": 14,
   "metadata": {},
   "outputs": [],
   "source": [
    "nome = valores[0]\n",
    "area = valores[1]\n",
    "cargo = valores[2]"
   ]
  },
  {
   "cell_type": "code",
   "execution_count": 15,
   "metadata": {},
   "outputs": [],
   "source": [
    "nome, area, cargo = valores"
   ]
  },
  {
   "cell_type": "markdown",
   "metadata": {},
   "source": [
    "## Estruturas vazias\n",
    "\n",
    "- Funciona para listas, conjuntos, dicionários, tuplas."
   ]
  },
  {
   "cell_type": "code",
   "execution_count": 17,
   "metadata": {},
   "outputs": [],
   "source": [
    "valores = [1, 2, 3]"
   ]
  },
  {
   "cell_type": "code",
   "execution_count": 18,
   "metadata": {},
   "outputs": [
    {
     "name": "stdout",
     "output_type": "stream",
     "text": [
      "A lista não está vazia!\n"
     ]
    }
   ],
   "source": [
    "if len(valores) > 0:\n",
    "    print(\"A lista não está vazia!\")"
   ]
  },
  {
   "cell_type": "code",
   "execution_count": 19,
   "metadata": {},
   "outputs": [
    {
     "name": "stdout",
     "output_type": "stream",
     "text": [
      "A lista não está vazia!\n"
     ]
    }
   ],
   "source": [
    "if valores:\n",
    "    print(\"A lista não está vazia!\")"
   ]
  },
  {
   "cell_type": "markdown",
   "metadata": {},
   "source": [
    "## Loops baseado em índices\n",
    "\n",
    "- Não devem ser feitos."
   ]
  },
  {
   "cell_type": "code",
   "execution_count": 21,
   "metadata": {},
   "outputs": [
    {
     "name": "stdout",
     "output_type": "stream",
     "text": [
      "O carro andou 234 metros.\n",
      "O carro andou 234234 metros.\n",
      "O carro andou 39 metros.\n"
     ]
    }
   ],
   "source": [
    "deslocamentos = [234, 234234, 39]\n",
    "\n",
    "for distancia in deslocamentos:\n",
    "    print(f\"O carro andou {distancia} metros.\")"
   ]
  },
  {
   "cell_type": "code",
   "execution_count": 22,
   "metadata": {},
   "outputs": [
    {
     "name": "stdout",
     "output_type": "stream",
     "text": [
      "0: o carro andou 234 metros.\n",
      "1: o carro andou 234234 metros.\n",
      "2: o carro andou 39 metros.\n"
     ]
    }
   ],
   "source": [
    "for idx, distancia in enumerate(deslocamentos):\n",
    "    print(f\"{idx}: o carro andou {distancia} metros.\")"
   ]
  },
  {
   "cell_type": "code",
   "execution_count": 23,
   "metadata": {},
   "outputs": [
    {
     "name": "stdout",
     "output_type": "stream",
     "text": [
      "(1, 2)\n",
      "(3, 4)\n",
      "(5, 6)\n"
     ]
    }
   ],
   "source": [
    "coordenadas = [(1, 2), (3, 4), (5, 6)]\n",
    "for x, y in coordenadas:\n",
    "    print(f\"({x}, {y})\")"
   ]
  },
  {
   "cell_type": "code",
   "execution_count": 25,
   "metadata": {},
   "outputs": [
    {
     "name": "stdout",
     "output_type": "stream",
     "text": [
      "0: (1, 2)\n",
      "1: (3, 4)\n",
      "2: (5, 6)\n"
     ]
    }
   ],
   "source": [
    "coordenadas = [(1, 2), (3, 4), (5, 6)]\n",
    "for idx, (x, y) in enumerate(coordenadas):\n",
    "    print(f\"{idx}: ({x}, {y})\")"
   ]
  },
  {
   "cell_type": "code",
   "execution_count": 26,
   "metadata": {},
   "outputs": [
    {
     "name": "stdout",
     "output_type": "stream",
     "text": [
      "O carro andou 234 metros e está na posição (1, 2).\n",
      "O carro andou 234234 metros e está na posição (3, 4).\n",
      "O carro andou 39 metros e está na posição (5, 6).\n"
     ]
    }
   ],
   "source": [
    "distancia = [234, 234234, 39]\n",
    "coordenadas = [(1, 2), (3, 4), (5, 6)]\n",
    "\n",
    "for d, (x, y) in zip(distancia, coordenadas):\n",
    "    print(f\"O carro andou {d} metros e está na posição ({x}, {y}).\")"
   ]
  },
  {
   "cell_type": "markdown",
   "metadata": {},
   "source": [
    "## Lops em dicionários"
   ]
  },
  {
   "cell_type": "code",
   "execution_count": 30,
   "metadata": {},
   "outputs": [
    {
     "name": "stdout",
     "output_type": "stream",
     "text": [
      "nome: Alice\n",
      "idade: 30\n",
      "cargo: Cientista de Dados\n"
     ]
    }
   ],
   "source": [
    "exemplo = {\"nome\": \"Alice\", \"idade\": 30, \"cargo\": \"Cientista de Dados\"}\n",
    "for chave in exemplo.keys():\n",
    "    print(f\"{chave}: {exemplo[chave]}\")"
   ]
  },
  {
   "cell_type": "markdown",
   "metadata": {},
   "source": [
    "\n",
    "- Podemos iterar nas chaves diretamente"
   ]
  },
  {
   "cell_type": "code",
   "execution_count": 27,
   "metadata": {},
   "outputs": [
    {
     "name": "stdout",
     "output_type": "stream",
     "text": [
      "nome\n",
      "idade\n",
      "cargo\n"
     ]
    }
   ],
   "source": [
    "for chave in exemplo:\n",
    "    print(chave)"
   ]
  },
  {
   "cell_type": "markdown",
   "metadata": {},
   "source": [
    "- Podemos iterar nas chaves e valores ao mesmo tempo"
   ]
  },
  {
   "cell_type": "code",
   "execution_count": 28,
   "metadata": {},
   "outputs": [
    {
     "name": "stdout",
     "output_type": "stream",
     "text": [
      "nome: Alice\n",
      "idade: 30\n",
      "cargo: Cientista de Dados\n"
     ]
    }
   ],
   "source": [
    "for chave, valor in exemplo.items():\n",
    "    print(f\"{chave}: {valor}\")"
   ]
  },
  {
   "cell_type": "markdown",
   "metadata": {},
   "source": [
    "## List comprehension\n",
    "\n",
    "- Usar quando precisar criar estruturas de repetição simples para criar listas, dicionários e conjuntos."
   ]
  },
  {
   "cell_type": "code",
   "execution_count": 31,
   "metadata": {},
   "outputs": [
    {
     "data": {
      "text/plain": [
       "['Nome: Alice', 'Nome: Bob', 'Nome: Charlie']"
      ]
     },
     "execution_count": 31,
     "metadata": {},
     "output_type": "execute_result"
    }
   ],
   "source": [
    "[f\"Nome: {nome}\" for nome in [\"Alice\", \"Bob\", \"Charlie\"]]"
   ]
  },
  {
   "cell_type": "code",
   "execution_count": 33,
   "metadata": {},
   "outputs": [
    {
     "data": {
      "text/plain": [
       "[0, 2, 4, 6, 8]"
      ]
     },
     "execution_count": 33,
     "metadata": {},
     "output_type": "execute_result"
    }
   ],
   "source": [
    "[numero for numero in range(10) if numero % 2 == 0]"
   ]
  },
  {
   "cell_type": "code",
   "execution_count": 34,
   "metadata": {},
   "outputs": [
    {
     "data": {
      "text/plain": [
       "{0: 0, 1: 1, 2: 4, 3: 9, 4: 16, 5: 25, 6: 36, 7: 49, 8: 64, 9: 81}"
      ]
     },
     "execution_count": 34,
     "metadata": {},
     "output_type": "execute_result"
    }
   ],
   "source": [
    "{numero: numero ** 2 for numero in range(10)}"
   ]
  },
  {
   "cell_type": "code",
   "execution_count": 37,
   "metadata": {},
   "outputs": [
    {
     "data": {
      "text/plain": [
       "{0, 1, 4, 9, 16, 25, 36, 49, 64, 81}"
      ]
     },
     "execution_count": 37,
     "metadata": {},
     "output_type": "execute_result"
    }
   ],
   "source": [
    "{numero ** 2 for numero in range(10)}"
   ]
  },
  {
   "cell_type": "markdown",
   "metadata": {},
   "source": [
    "Mas não exagere kkk"
   ]
  },
  {
   "cell_type": "code",
   "execution_count": 41,
   "metadata": {},
   "outputs": [
    {
     "data": {
      "text/plain": [
       "[(0, 0, 0),\n",
       " (0, 0, 1),\n",
       " (0, 0, 2),\n",
       " (0, 1, 0),\n",
       " (0, 1, 1),\n",
       " (0, 1, 2),\n",
       " (0, 2, 0),\n",
       " (0, 2, 1),\n",
       " (0, 2, 2),\n",
       " (1, 0, 0),\n",
       " (1, 0, 1),\n",
       " (1, 0, 2),\n",
       " (1, 1, 0),\n",
       " (1, 1, 1),\n",
       " (1, 1, 2),\n",
       " (1, 2, 0),\n",
       " (1, 2, 1),\n",
       " (1, 2, 2),\n",
       " (2, 0, 0),\n",
       " (2, 0, 1),\n",
       " (2, 0, 2),\n",
       " (2, 1, 0),\n",
       " (2, 1, 1),\n",
       " (2, 1, 2),\n",
       " (2, 2, 0),\n",
       " (2, 2, 1),\n",
       " (2, 2, 2)]"
      ]
     },
     "execution_count": 41,
     "metadata": {},
     "output_type": "execute_result"
    }
   ],
   "source": [
    "combinacoes = [\n",
    "    (x, y, z) \n",
    "    for x in range(3) \n",
    "    for y in range(3) \n",
    "    for z in range(3)\n",
    "]\n",
    "combinacoes"
   ]
  },
  {
   "cell_type": "markdown",
   "metadata": {},
   "source": [
    "## Defina sempre None como valor padrão de um parâmetro opcional\n",
    "\n",
    "Comportamento estranho:"
   ]
  },
  {
   "cell_type": "code",
   "execution_count": 42,
   "metadata": {},
   "outputs": [
    {
     "name": "stdout",
     "output_type": "stream",
     "text": [
      "[1]\n",
      "[1, 2]\n"
     ]
    }
   ],
   "source": [
    "def foo(numero, lista=[]):\n",
    "    lista.append(numero)\n",
    "    return lista\n",
    "\n",
    "print(foo(1))\n",
    "print(foo(2))"
   ]
  },
  {
   "cell_type": "markdown",
   "metadata": {},
   "source": [
    "Correto:"
   ]
  },
  {
   "cell_type": "code",
   "execution_count": 43,
   "metadata": {},
   "outputs": [
    {
     "name": "stdout",
     "output_type": "stream",
     "text": [
      "[1]\n",
      "[2]\n"
     ]
    }
   ],
   "source": [
    "def foo(numero, lista=None):\n",
    "    if not lista:\n",
    "        lista = []\n",
    "    lista.append(numero)\n",
    "    return lista\n",
    "\n",
    "print(foo(1))\n",
    "print(foo(2))"
   ]
  },
  {
   "cell_type": "markdown",
   "metadata": {},
   "source": [
    "## Evite loops ao usar pandas/numpy\n",
    "\n",
    "- É possível fazer quase tudo nesses pacotes sem um **for**."
   ]
  },
  {
   "cell_type": "code",
   "execution_count": null,
   "metadata": {},
   "outputs": [],
   "source": []
  },
  {
   "cell_type": "markdown",
   "metadata": {},
   "source": [
    "# Gestão de código\n",
    "\n",
    "- Remova sem dó código antigo ou que você pode ser que use no futuro. Ele está salvo no Git.\n",
    "- Use branches no git."
   ]
  },
  {
   "cell_type": "markdown",
   "metadata": {},
   "source": []
  }
 ],
 "metadata": {
  "kernelspec": {
   "display_name": "Python 3",
   "language": "python",
   "name": "python3"
  },
  "language_info": {
   "codemirror_mode": {
    "name": "ipython",
    "version": 3
   },
   "file_extension": ".py",
   "mimetype": "text/x-python",
   "name": "python",
   "nbconvert_exporter": "python",
   "pygments_lexer": "ipython3",
   "version": "3.11.8"
  }
 },
 "nbformat": 4,
 "nbformat_minor": 2
}
